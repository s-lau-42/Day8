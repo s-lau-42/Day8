{
 "cells": [
  {
   "cell_type": "markdown",
   "metadata": {},
   "source": [
    "- lin regression is supervised:\n",
    "<br>\n",
    "True\n"
   ]
  },
  {
   "cell_type": "markdown",
   "metadata": {},
   "source": [
    " which method do we use to find the best fit for data in lin reg:\n",
    "- a) least squared error\n",
    "- b) maximum likelyhood\n",
    "- c) logarithmic loss\n",
    "- d) a and b\n",
    "\n",
    "d\n"
   ]
  },
  {
   "cell_type": "markdown",
   "metadata": {},
   "source": [
    "which of the following is true for residuals:\n",
    "\n",
    "- a) lower is better\n",
    "- b) higher is better\n",
    "- c) a or b depending on situation\n",
    "- d) none of these\n",
    "\n",
    "a)"
   ]
  },
  {
   "cell_type": "markdown",
   "metadata": {},
   "source": [
    "what will happen when you fit degree 2,  polynomial:\n",
    "\n",
    "you dont get a proper result , max only for a part of the graph"
   ]
  },
  {
   "cell_type": "markdown",
   "metadata": {},
   "source": [
    "is it possible to design a lin. reg. algorithm with a neural network:\n",
    "\n",
    "if you say that it can do everything : True"
   ]
  },
  {
   "cell_type": "markdown",
   "metadata": {},
   "source": [
    "which of the followinh eval. metrics can be used to evaluate a model while modelling a continuous output variable\n",
    "\n",
    "- a AUC-ROC\n",
    "- b Accuracy\n",
    "- c Log loss\n",
    "- d mean squared error\n",
    "\n",
    "d"
   ]
  },
  {
   "cell_type": "markdown",
   "metadata": {},
   "source": [
    "which of the following is true about outliers in lin. reg.:\n",
    "- a) lin reg is sensitive to outliers\n",
    "- b) it is not sensitive\n",
    "- c) cant say\n",
    "- d) none of those\n",
    "\n",
    "\n",
    "a"
   ]
  },
  {
   "cell_type": "markdown",
   "metadata": {},
   "source": [
    "suppose you plotted a scatter plot between the residuals and predicted values in lin. reg. and you found that there is a relationship between them, what does that mean:\n",
    "- a) since there is a relationship , model is not good\n",
    "- b) model is good\n",
    "- c) cant say\n",
    "- d) none of these\n",
    "\n",
    "c\n",
    "\n",
    "\n"
   ]
  },
  {
   "cell_type": "markdown",
   "metadata": {},
   "source": [
    "suppose we have N independent variables (x_1,...,x_n)  and dependent variable is y. immagine we are applying lin reg by fitting the best fit line using least square error on this data. We found that correlation coefficent for x_1 with y = 0.95. which of the following is true\n",
    "- a)relation between x and y is weak\n",
    "- b)\"\" is strong\n",
    "- c)relation between x and y is neutral\n",
    "- d)correlation cannot judge relation\n",
    "\n",
    "answer : e) x isnt defined\n",
    "but for answers sake : d)"
   ]
  },
  {
   "cell_type": "markdown",
   "metadata": {},
   "source": [
    "suppose you  have a data set D_1 and u design a lin. reg. model of degree 3 polynomial and we found that the training and testing error is 0.( it perfectly fits the data ) what will happen when we fit a degree 4 polynomial in lin. reg.:\n",
    "\n",
    "- a) high chances that degree 4 will overfit the data\n",
    "- b) -\"- undertfit the data\n",
    "- c) cant say\n",
    "- d) none of these\n",
    "\n",
    "\n",
    "b ?"
   ]
  }
 ],
 "metadata": {
  "kernelspec": {
   "display_name": "Python [conda env:nf] *",
   "language": "python",
   "name": "conda-env-nf-py"
  },
  "language_info": {
   "codemirror_mode": {
    "name": "ipython",
    "version": 3
   },
   "file_extension": ".py",
   "mimetype": "text/x-python",
   "name": "python",
   "nbconvert_exporter": "python",
   "pygments_lexer": "ipython3",
   "version": "3.6.6"
  }
 },
 "nbformat": 4,
 "nbformat_minor": 2
}
